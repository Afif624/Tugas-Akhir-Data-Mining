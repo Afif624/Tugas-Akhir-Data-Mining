{
  "nbformat": 4,
  "nbformat_minor": 0,
  "metadata": {
    "colab": {
      "provenance": []
    },
    "kernelspec": {
      "name": "python3",
      "display_name": "Python 3"
    },
    "language_info": {
      "name": "python"
    }
  },
  "cells": [
    {
      "cell_type": "markdown",
      "source": [
        "Nama: Afif Pristantio\n",
        "\n",
        "\n",
        "NIM : A11.2020.12993"
      ],
      "metadata": {
        "id": "v3VZ3XcSDnju"
      }
    },
    {
      "cell_type": "code",
      "source": [
        "# Mengimpor library yang diperlukan\n",
        "import numpy as np\n",
        "import pandas as pd\n",
        "from sklearn.model_selection import train_test_split\n",
        "from sklearn.preprocessing import StandardScaler\n",
        "from sklearn.impute import SimpleImputer\n",
        "from sklearn.naive_bayes import GaussianNB\n",
        "from sklearn.neighbors import KNeighborsClassifier\n",
        "from sklearn.tree import DecisionTreeClassifier\n",
        "from sklearn.model_selection import GridSearchCV\n",
        "from sklearn.feature_selection import SelectKBest, f_classif\n",
        "from sklearn.metrics import accuracy_score, precision_score, recall_score, f1_score, roc_auc_score\n",
        "\n",
        "# Mengimpor dataset dari file CSV\n",
        "df = pd.read_csv('Breast Cancer Wisconsin (Diagnostic).csv')\n",
        "\n",
        "# Menampilkan dataset\n",
        "print(df)"
      ],
      "metadata": {
        "colab": {
          "base_uri": "https://localhost:8080/"
        },
        "id": "jAbY63LOt9tp",
        "outputId": "63ba0a74-871a-4241-da10-ccedb5c11a10"
      },
      "execution_count": 1,
      "outputs": [
        {
          "output_type": "stream",
          "name": "stdout",
          "text": [
            "           id diagnosis  radius_mean  texture_mean  perimeter_mean  area_mean  \\\n",
            "0      842302         M        17.99         10.38          122.80     1001.0   \n",
            "1      842517         M        20.57         17.77          132.90     1326.0   \n",
            "2    84300903         M        19.69         21.25          130.00     1203.0   \n",
            "3    84348301         M        11.42         20.38           77.58      386.1   \n",
            "4    84358402         M        20.29         14.34          135.10     1297.0   \n",
            "..        ...       ...          ...           ...             ...        ...   \n",
            "564    926424         M        21.56         22.39          142.00     1479.0   \n",
            "565    926682         M        20.13         28.25          131.20     1261.0   \n",
            "566    926954         M        16.60         28.08          108.30      858.1   \n",
            "567    927241         M        20.60         29.33          140.10     1265.0   \n",
            "568     92751         B         7.76         24.54           47.92      181.0   \n",
            "\n",
            "     smoothness_mean  compactness_mean  concavity_mean  concave points_mean  \\\n",
            "0            0.11840           0.27760         0.30010              0.14710   \n",
            "1            0.08474           0.07864         0.08690              0.07017   \n",
            "2            0.10960           0.15990         0.19740              0.12790   \n",
            "3            0.14250           0.28390         0.24140              0.10520   \n",
            "4            0.10030           0.13280         0.19800              0.10430   \n",
            "..               ...               ...             ...                  ...   \n",
            "564          0.11100           0.11590         0.24390              0.13890   \n",
            "565          0.09780           0.10340         0.14400              0.09791   \n",
            "566          0.08455           0.10230         0.09251              0.05302   \n",
            "567          0.11780           0.27700         0.35140              0.15200   \n",
            "568          0.05263           0.04362         0.00000              0.00000   \n",
            "\n",
            "     ...  texture_worst  perimeter_worst  area_worst  smoothness_worst  \\\n",
            "0    ...          17.33           184.60      2019.0           0.16220   \n",
            "1    ...          23.41           158.80      1956.0           0.12380   \n",
            "2    ...          25.53           152.50      1709.0           0.14440   \n",
            "3    ...          26.50            98.87       567.7           0.20980   \n",
            "4    ...          16.67           152.20      1575.0           0.13740   \n",
            "..   ...            ...              ...         ...               ...   \n",
            "564  ...          26.40           166.10      2027.0           0.14100   \n",
            "565  ...          38.25           155.00      1731.0           0.11660   \n",
            "566  ...          34.12           126.70      1124.0           0.11390   \n",
            "567  ...          39.42           184.60      1821.0           0.16500   \n",
            "568  ...          30.37            59.16       268.6           0.08996   \n",
            "\n",
            "     compactness_worst  concavity_worst  concave points_worst  symmetry_worst  \\\n",
            "0              0.66560           0.7119                0.2654          0.4601   \n",
            "1              0.18660           0.2416                0.1860          0.2750   \n",
            "2              0.42450           0.4504                0.2430          0.3613   \n",
            "3              0.86630           0.6869                0.2575          0.6638   \n",
            "4              0.20500           0.4000                0.1625          0.2364   \n",
            "..                 ...              ...                   ...             ...   \n",
            "564            0.21130           0.4107                0.2216          0.2060   \n",
            "565            0.19220           0.3215                0.1628          0.2572   \n",
            "566            0.30940           0.3403                0.1418          0.2218   \n",
            "567            0.86810           0.9387                0.2650          0.4087   \n",
            "568            0.06444           0.0000                0.0000          0.2871   \n",
            "\n",
            "     fractal_dimension_worst  Unnamed: 32  \n",
            "0                    0.11890          NaN  \n",
            "1                    0.08902          NaN  \n",
            "2                    0.08758          NaN  \n",
            "3                    0.17300          NaN  \n",
            "4                    0.07678          NaN  \n",
            "..                       ...          ...  \n",
            "564                  0.07115          NaN  \n",
            "565                  0.06637          NaN  \n",
            "566                  0.07820          NaN  \n",
            "567                  0.12400          NaN  \n",
            "568                  0.07039          NaN  \n",
            "\n",
            "[569 rows x 33 columns]\n"
          ]
        }
      ]
    },
    {
      "cell_type": "code",
      "source": [
        "# Menghapus kolom yang tidak relevan\n",
        "df.drop(['id'], axis=1, inplace=True)\n",
        "\n",
        "# Mengubah label kelas menjadi numerik\n",
        "df['diagnosis'] = df['diagnosis'].map({'M': 1, 'B': 0})\n",
        "\n",
        "# Memisahkan fitur dan label\n",
        "X = df.drop('diagnosis', axis=1)\n",
        "y = df['diagnosis']\n",
        "\n",
        "# Menampilkan fitur dan label\n",
        "print(X)\n",
        "print(y)"
      ],
      "metadata": {
        "colab": {
          "base_uri": "https://localhost:8080/"
        },
        "id": "620aXA5xz6GJ",
        "outputId": "3cc45035-5695-427c-e38d-b08a32df3309"
      },
      "execution_count": 2,
      "outputs": [
        {
          "output_type": "stream",
          "name": "stdout",
          "text": [
            "     radius_mean  texture_mean  perimeter_mean  area_mean  smoothness_mean  \\\n",
            "0          17.99         10.38          122.80     1001.0          0.11840   \n",
            "1          20.57         17.77          132.90     1326.0          0.08474   \n",
            "2          19.69         21.25          130.00     1203.0          0.10960   \n",
            "3          11.42         20.38           77.58      386.1          0.14250   \n",
            "4          20.29         14.34          135.10     1297.0          0.10030   \n",
            "..           ...           ...             ...        ...              ...   \n",
            "564        21.56         22.39          142.00     1479.0          0.11100   \n",
            "565        20.13         28.25          131.20     1261.0          0.09780   \n",
            "566        16.60         28.08          108.30      858.1          0.08455   \n",
            "567        20.60         29.33          140.10     1265.0          0.11780   \n",
            "568         7.76         24.54           47.92      181.0          0.05263   \n",
            "\n",
            "     compactness_mean  concavity_mean  concave points_mean  symmetry_mean  \\\n",
            "0             0.27760         0.30010              0.14710         0.2419   \n",
            "1             0.07864         0.08690              0.07017         0.1812   \n",
            "2             0.15990         0.19740              0.12790         0.2069   \n",
            "3             0.28390         0.24140              0.10520         0.2597   \n",
            "4             0.13280         0.19800              0.10430         0.1809   \n",
            "..                ...             ...                  ...            ...   \n",
            "564           0.11590         0.24390              0.13890         0.1726   \n",
            "565           0.10340         0.14400              0.09791         0.1752   \n",
            "566           0.10230         0.09251              0.05302         0.1590   \n",
            "567           0.27700         0.35140              0.15200         0.2397   \n",
            "568           0.04362         0.00000              0.00000         0.1587   \n",
            "\n",
            "     fractal_dimension_mean  ...  texture_worst  perimeter_worst  area_worst  \\\n",
            "0                   0.07871  ...          17.33           184.60      2019.0   \n",
            "1                   0.05667  ...          23.41           158.80      1956.0   \n",
            "2                   0.05999  ...          25.53           152.50      1709.0   \n",
            "3                   0.09744  ...          26.50            98.87       567.7   \n",
            "4                   0.05883  ...          16.67           152.20      1575.0   \n",
            "..                      ...  ...            ...              ...         ...   \n",
            "564                 0.05623  ...          26.40           166.10      2027.0   \n",
            "565                 0.05533  ...          38.25           155.00      1731.0   \n",
            "566                 0.05648  ...          34.12           126.70      1124.0   \n",
            "567                 0.07016  ...          39.42           184.60      1821.0   \n",
            "568                 0.05884  ...          30.37            59.16       268.6   \n",
            "\n",
            "     smoothness_worst  compactness_worst  concavity_worst  \\\n",
            "0             0.16220            0.66560           0.7119   \n",
            "1             0.12380            0.18660           0.2416   \n",
            "2             0.14440            0.42450           0.4504   \n",
            "3             0.20980            0.86630           0.6869   \n",
            "4             0.13740            0.20500           0.4000   \n",
            "..                ...                ...              ...   \n",
            "564           0.14100            0.21130           0.4107   \n",
            "565           0.11660            0.19220           0.3215   \n",
            "566           0.11390            0.30940           0.3403   \n",
            "567           0.16500            0.86810           0.9387   \n",
            "568           0.08996            0.06444           0.0000   \n",
            "\n",
            "     concave points_worst  symmetry_worst  fractal_dimension_worst  \\\n",
            "0                  0.2654          0.4601                  0.11890   \n",
            "1                  0.1860          0.2750                  0.08902   \n",
            "2                  0.2430          0.3613                  0.08758   \n",
            "3                  0.2575          0.6638                  0.17300   \n",
            "4                  0.1625          0.2364                  0.07678   \n",
            "..                    ...             ...                      ...   \n",
            "564                0.2216          0.2060                  0.07115   \n",
            "565                0.1628          0.2572                  0.06637   \n",
            "566                0.1418          0.2218                  0.07820   \n",
            "567                0.2650          0.4087                  0.12400   \n",
            "568                0.0000          0.2871                  0.07039   \n",
            "\n",
            "     Unnamed: 32  \n",
            "0            NaN  \n",
            "1            NaN  \n",
            "2            NaN  \n",
            "3            NaN  \n",
            "4            NaN  \n",
            "..           ...  \n",
            "564          NaN  \n",
            "565          NaN  \n",
            "566          NaN  \n",
            "567          NaN  \n",
            "568          NaN  \n",
            "\n",
            "[569 rows x 31 columns]\n",
            "0      1\n",
            "1      1\n",
            "2      1\n",
            "3      1\n",
            "4      1\n",
            "      ..\n",
            "564    1\n",
            "565    1\n",
            "566    1\n",
            "567    1\n",
            "568    0\n",
            "Name: diagnosis, Length: 569, dtype: int64\n"
          ]
        }
      ]
    },
    {
      "cell_type": "code",
      "source": [
        "# Membagi dataset menjadi data pelatihan dan data pengujian\n",
        "X_train, X_test, y_train, y_test = train_test_split(X, y, test_size=0.2, random_state=42)\n",
        "\n",
        "# Mengisi nilai yang hilang menggunakan imputer\n",
        "imputer = SimpleImputer(strategy='mean')\n",
        "X_train = imputer.fit_transform(X_train)\n",
        "X_test = imputer.transform(X_test)\n",
        "\n",
        "# Melakukan normalisasi menggunakan StandardScaler\n",
        "scaler = StandardScaler()\n",
        "X_train = scaler.fit_transform(X_train)\n",
        "X_test = scaler.transform(X_test)\n",
        "\n",
        "# Memilih fitur terbaik menggunakan SelectKBest dan ANOVA F-value\n",
        "feature_selector = SelectKBest(f_classif, k=10)\n",
        "X_train = feature_selector.fit_transform(X_train, y_train)\n",
        "X_test = feature_selector.transform(X_test)\n",
        "\n",
        "# Menampilkan fitur terbaik\n",
        "print(X_train)\n",
        "print(X_test)"
      ],
      "metadata": {
        "colab": {
          "base_uri": "https://localhost:8080/"
        },
        "id": "cf0CByKhuFQG",
        "outputId": "83a0783f-9952-47b9-f2d7-7c4dc6fd4aff"
      },
      "execution_count": 3,
      "outputs": [
        {
          "output_type": "stream",
          "name": "stdout",
          "text": [
            "[[-1.44075296 -1.36208497 -1.1391179  ... -0.97396758  4.67282796\n",
            "   0.9320124 ]\n",
            " [ 1.97409619  2.09167167  1.85197292 ...  2.1374055   1.92862053\n",
            "   2.6989469 ]\n",
            " [-1.39998202 -1.34520926 -1.10978518 ... -0.99971493 -0.64491059\n",
            "  -0.97023893]\n",
            " ...\n",
            " [ 0.04880192 -0.06512547 -0.06142266 ... -0.33927781 -1.12796759\n",
            "  -1.23903365]\n",
            " [-0.03896885 -0.03137406 -0.15477966 ... -0.01355621  0.63253231\n",
            "   1.05001236]\n",
            " [-0.54860557 -0.60350155 -0.5518995  ... -0.58052694 -0.76538799\n",
            "  -0.61102866]]\n",
            "[[-0.46649743 -0.44421138 -0.48646498 ... -0.35109337 -0.03583041\n",
            "  -0.19435087]\n",
            " [ 1.36536344  1.30551088  1.34147086 ...  1.7441412  -0.02818105\n",
            "   0.99177862]\n",
            " [ 0.38006578  0.40410139  0.26659607 ...  0.49204412  0.4996247\n",
            "   0.57035018]\n",
            " ...\n",
            " [-0.73547237 -0.74138839 -0.69969126 ... -0.67928389 -0.45033003\n",
            "  -0.27741059]\n",
            " [ 0.02898271  0.0274851  -0.0859606  ... -0.19925456  0.15205697\n",
            "  -0.49027026]\n",
            " [ 1.87216885  1.80354992  2.15658189 ...  4.50580885  0.33277307\n",
            "   0.7925579 ]]\n"
          ]
        }
      ]
    },
    {
      "cell_type": "code",
      "source": [
        "# Naive Bayes\n",
        "naive_bayes = GaussianNB()\n",
        "naive_bayes.fit(X_train, y_train)\n",
        "\n",
        "# Melakukan prediksi pada data pengujian dengan Naive Bayes\n",
        "y_pred_nb = naive_bayes.predict(X_test)\n",
        "\n",
        "# Evaluasi performa model Naive Bayes\n",
        "accuracy_nb = accuracy_score(y_test, y_pred_nb)\n",
        "precision_nb = precision_score(y_test, y_pred_nb)\n",
        "recall_nb = recall_score(y_test, y_pred_nb)\n",
        "f1_nb = f1_score(y_test, y_pred_nb)\n",
        "roc_auc_nb = roc_auc_score(y_test, y_pred_nb)\n",
        "\n",
        "# Menampilkan metrik evaluasi Naive Bayes\n",
        "print(\"Naive Bayes - Accuracy:\", accuracy_nb)\n",
        "print(\"Naive Bayes - Precision:\", precision_nb)\n",
        "print(\"Naive Bayes - Recall:\", recall_nb)\n",
        "print(\"Naive Bayes - F1 Score:\", f1_nb)\n",
        "print(\"Naive Bayes - ROC AUC Score:\", roc_auc_nb)"
      ],
      "metadata": {
        "colab": {
          "base_uri": "https://localhost:8080/"
        },
        "id": "hnw21HrHuJ_z",
        "outputId": "a7ed159d-855a-4ebe-b1fe-0fae0f2209a7"
      },
      "execution_count": 4,
      "outputs": [
        {
          "output_type": "stream",
          "name": "stdout",
          "text": [
            "Naive Bayes - Accuracy: 0.9736842105263158\n",
            "Naive Bayes - Precision: 1.0\n",
            "Naive Bayes - Recall: 0.9302325581395349\n",
            "Naive Bayes - F1 Score: 0.963855421686747\n",
            "Naive Bayes - ROC AUC Score: 0.9651162790697674\n"
          ]
        }
      ]
    },
    {
      "cell_type": "code",
      "source": [
        "# KNN\n",
        "knn = KNeighborsClassifier()\n",
        "# Melakukan tuning hyperparameter menggunakan GridSearchCV untuk KNN\n",
        "knn_params = {'n_neighbors': [3, 5, 7], 'p': [1, 2]}\n",
        "grid_search_knn = GridSearchCV(knn, knn_params)\n",
        "grid_search_knn.fit(X_train, y_train)\n",
        "\n",
        "# Melakukan prediksi pada data pengujian dengan KNN yang sudah dituning\n",
        "y_pred_knn = grid_search_knn.predict(X_test)\n",
        "\n",
        "# Evaluasi performa model KNN yang sudah dituning\n",
        "accuracy_knn = accuracy_score(y_test, y_pred_knn)\n",
        "precision_knn = precision_score(y_test, y_pred_knn)\n",
        "recall_knn = recall_score(y_test, y_pred_knn)\n",
        "f1_knn = f1_score(y_test, y_pred_knn)\n",
        "roc_auc_knn = roc_auc_score(y_test, y_pred_knn)\n",
        "\n",
        "# Menampilkan metrik evaluasi KNN yang sudah dituning\n",
        "print(\"KNN - Accuracy:\", accuracy_knn)\n",
        "print(\"KNN - Precision:\", precision_knn)\n",
        "print(\"KNN - Recall:\", recall_knn)\n",
        "print(\"KNN - F1 Score:\", f1_knn)\n",
        "print(\"KNN - ROC AUC Score:\", roc_auc_knn)"
      ],
      "metadata": {
        "colab": {
          "base_uri": "https://localhost:8080/"
        },
        "id": "1YL5rH6DvM1Y",
        "outputId": "a3f6a21c-01dd-4ca1-e01e-3dd3cd1bffcf"
      },
      "execution_count": 5,
      "outputs": [
        {
          "output_type": "stream",
          "name": "stdout",
          "text": [
            "KNN - Accuracy: 0.9736842105263158\n",
            "KNN - Precision: 0.9545454545454546\n",
            "KNN - Recall: 0.9767441860465116\n",
            "KNN - F1 Score: 0.9655172413793104\n",
            "KNN - ROC AUC Score: 0.9742875859810023\n"
          ]
        }
      ]
    },
    {
      "cell_type": "code",
      "source": [
        "# Decision Tree\n",
        "dt = DecisionTreeClassifier()\n",
        "# Melakukan tuning hyperparameter menggunakan GridSearchCV untuk Decision Tree\n",
        "dt_params = {'max_depth': [None, 5, 10, 15]}\n",
        "grid_search_dt = GridSearchCV(dt, dt_params)\n",
        "grid_search_dt.fit(X_train, y_train)\n",
        "\n",
        "# Melakukan prediksi pada data pengujian dengan Decision Tree yang sudah dituning\n",
        "y_pred_dt = grid_search_dt.predict(X_test)\n",
        "\n",
        "# Evaluasi performa model Decision Tree yang sudah dituning\n",
        "accuracy_dt = accuracy_score(y_test, y_pred_dt)\n",
        "precision_dt = precision_score(y_test, y_pred_dt)\n",
        "recall_dt = recall_score(y_test, y_pred_dt)\n",
        "f1_dt = f1_score(y_test, y_pred_dt)\n",
        "roc_auc_dt = roc_auc_score(y_test, y_pred_dt)\n",
        "\n",
        "# Menampilkan metrik evaluasi Decision Tree yang sudah dituning\n",
        "print(\"Decision Tree - Accuracy:\", accuracy_dt)\n",
        "print(\"Decision Tree - Precision:\", precision_dt)\n",
        "print(\"Decision Tree - Recall:\", recall_dt)\n",
        "print(\"Decision Tree - F1 Score:\", f1_dt)\n",
        "print(\"Decision Tree - ROC AUC Score:\", roc_auc_dt)"
      ],
      "metadata": {
        "colab": {
          "base_uri": "https://localhost:8080/"
        },
        "id": "BdVw6UwlvMwb",
        "outputId": "4ab5a315-2022-446f-dbde-f1014430283b"
      },
      "execution_count": 6,
      "outputs": [
        {
          "output_type": "stream",
          "name": "stdout",
          "text": [
            "Decision Tree - Accuracy: 0.9210526315789473\n",
            "Decision Tree - Precision: 0.9473684210526315\n",
            "Decision Tree - Recall: 0.8372093023255814\n",
            "Decision Tree - F1 Score: 0.8888888888888888\n",
            "Decision Tree - ROC AUC Score: 0.9045201441205373\n"
          ]
        }
      ]
    },
    {
      "cell_type": "code",
      "source": [
        "# Menampilkan hasil prediksi klasifikasi untuk setiap data dari ketiga algoritma yang sudah dituning\n",
        "prediction_results = pd.DataFrame({'Actual': y_test, 'Naive Bayes': y_pred_nb, 'KNN': y_pred_knn, 'Decision Tree': y_pred_dt})\n",
        "print(prediction_results)"
      ],
      "metadata": {
        "colab": {
          "base_uri": "https://localhost:8080/"
        },
        "id": "0FBF4PSWwqPz",
        "outputId": "8f3789ec-2d36-480a-9baa-3a5092aa5563"
      },
      "execution_count": 7,
      "outputs": [
        {
          "output_type": "stream",
          "name": "stdout",
          "text": [
            "     Actual  Naive Bayes  KNN  Decision Tree\n",
            "204       0            0    0              0\n",
            "70        1            1    1              1\n",
            "131       1            1    1              1\n",
            "431       0            0    0              0\n",
            "540       0            0    0              0\n",
            "..      ...          ...  ...            ...\n",
            "486       0            0    0              0\n",
            "75        1            1    1              1\n",
            "249       0            0    0              0\n",
            "238       0            0    0              0\n",
            "265       1            1    1              1\n",
            "\n",
            "[114 rows x 4 columns]\n"
          ]
        }
      ]
    },
    {
      "cell_type": "code",
      "source": [
        "# Menghitung jumlah hasil yang benar (akurat) dari ketiga algoritma\n",
        "accurate_count_nb = (y_test == y_pred_nb).sum()\n",
        "accurate_count_knn = (y_test == y_pred_knn).sum()\n",
        "accurate_count_dt = (y_test == y_pred_dt).sum()\n",
        "\n",
        "# Menampilkan jumlah hasil yang akurat dari ketiga algoritma\n",
        "print(\"Jumlah Prediksi yang Akurat - Naive Bayes  :\", accurate_count_nb)\n",
        "print(\"Jumlah Prediksi yang Akurat - KNN          :\", accurate_count_knn)\n",
        "print(\"Jumlah Prediksi yang Akurat - Decision Tree:\", accurate_count_dt)\n",
        "\n",
        "# Menentukan algoritma terbaik berdasarkan jumlah hasil yang akurat\n",
        "best_algorithm = \"\"\n",
        "if accurate_count_nb >= accurate_count_knn and accurate_count_nb >= accurate_count_dt:\n",
        "    best_algorithm = \"Naive Bayes\"\n",
        "elif accurate_count_knn >= accurate_count_dt:\n",
        "    best_algorithm = \"KNN\"\n",
        "else:\n",
        "    best_algorithm = \"Decision Tree\"\n",
        "\n",
        "print(\"Algoritma terbaik adalah\", best_algorithm)"
      ],
      "metadata": {
        "colab": {
          "base_uri": "https://localhost:8080/"
        },
        "id": "Pmnck4qN7_jL",
        "outputId": "8621676c-12e0-4074-e26c-17c1b7c1bd23"
      },
      "execution_count": 8,
      "outputs": [
        {
          "output_type": "stream",
          "name": "stdout",
          "text": [
            "Jumlah Prediksi yang Akurat - Naive Bayes  : 111\n",
            "Jumlah Prediksi yang Akurat - KNN          : 111\n",
            "Jumlah Prediksi yang Akurat - Decision Tree: 105\n",
            "Algoritma terbaik adalah Naive Bayes\n"
          ]
        }
      ]
    }
  ]
}